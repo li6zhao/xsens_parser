{
 "cells": [
  {
   "cell_type": "markdown",
   "id": "c86c7c70",
   "metadata": {},
   "source": [
    "## Demo 01 - For parsing mvnx file\n",
    "\n",
    "To come later\n",
    "\n",
    "* allow multiple output file type (currently only support pickle file\n",
    "* another class to\n",
    "    * slice the parsed data\n",
    "    * visualisation\n",
    "* joint angle column names need to be updated (currently using x, y, z for each join, for simplicity)\n",
    "* error handling\n",
    "* more commenting"
   ]
  },
  {
   "cell_type": "markdown",
   "id": "8587884c",
   "metadata": {},
   "source": [
    "### step 01 - import the customed class"
   ]
  },
  {
   "cell_type": "code",
   "execution_count": 1,
   "id": "00826684",
   "metadata": {},
   "outputs": [],
   "source": [
    "import pandas as pd\n",
    "import os\n",
    "os.chdir('..//')\n",
    "import pprint\n",
    "pp = pprint.PrettyPrinter(indent=4)\n",
    "\n",
    "from src.s01_mvnx_parser import *"
   ]
  },
  {
   "cell_type": "markdown",
   "id": "362ecccd",
   "metadata": {},
   "source": [
    "### step 02 - define input file path and parse the file"
   ]
  },
  {
   "cell_type": "code",
   "execution_count": 2,
   "id": "36948f63",
   "metadata": {},
   "outputs": [],
   "source": [
    "# parse a given mvnx file\n",
    "\n",
    "mvnx_file_path = r'input/d01_P06_hard_round_short.mvnx'\n",
    "mvnx_file = MvnxFileParser(mvnx_file_path)"
   ]
  },
  {
   "cell_type": "markdown",
   "id": "94510129",
   "metadata": {},
   "source": [
    "### step 03 - check some key information from parsed file\n",
    "\n",
    "Below are some examples of usefule information from parsed mvnx file.\n",
    "\n",
    "To quickly check all available attributes and methods, can use <br>\n",
    "`dir(mvnx_file)`"
   ]
  },
  {
   "cell_type": "markdown",
   "id": "b5e6771e",
   "metadata": {},
   "source": [
    "#### a. check metadata"
   ]
  },
  {
   "cell_type": "code",
   "execution_count": 3,
   "id": "c6dde18b",
   "metadata": {},
   "outputs": [
    {
     "data": {
      "text/plain": [
       "{'mvn_version': '2023.0.0',\n",
       " 'mvn_build': 'Version 2023.0.0. Build 10035. Date 2022-12-02. Revision 120521.',\n",
       " 'torsoColor': '#ea6852',\n",
       " 'frameRate': 240,\n",
       " 'segmentCount': 27,\n",
       " 'recDate': 'Thu Jan 1 00:21:40.578 1970',\n",
       " 'recDateMSecsSinceEpoch': 1300578,\n",
       " 'configuration': 'FullBody',\n",
       " 'userScenario': 'noLevel',\n",
       " 'processingQuality': 'HD',\n",
       " 'start_frame_global': 2400,\n",
       " 'end_frame_global': 2426,\n",
       " 'frame_ind_global': None,\n",
       " 'frame_ms': array([1310578, 1310582, 1310586, 1310590, 1310595, 1310599, 1310603,\n",
       "        1310607, 1310611, 1310615, 1310620, 1310624, 1310628, 1310632,\n",
       "        1310636, 1310640, 1310645, 1310649, 1310653, 1310657, 1310661,\n",
       "        1310665, 1310670, 1310674, 1310678, 1310682, 1310686]),\n",
       " 'total_recording_frames': 27}"
      ]
     },
     "execution_count": 3,
     "metadata": {},
     "output_type": "execute_result"
    }
   ],
   "source": [
    "mvnx_file.metadata"
   ]
  },
  {
   "cell_type": "markdown",
   "id": "0ee5e480",
   "metadata": {},
   "source": [
    "#### b. check all points' offset coordinate from the segment origin"
   ]
  },
  {
   "cell_type": "code",
   "execution_count": 4,
   "id": "575e76f4",
   "metadata": {},
   "outputs": [
    {
     "data": {
      "text/plain": [
       "{'pHipOrigin': array([0., 0., 0.]),\n",
       " 'jL5S1': array([-0.012904,  0.      ,  0.116135]),\n",
       " 'jRightHip': array([ 2.7000e-05, -9.5066e-02, -2.4200e-04]),\n",
       " 'jLeftHip': array([ 3.0000e-05,  9.5066e-02, -2.6800e-04]),\n",
       " 'pRightSIPS': array([-0.048423, -0.059416,  0.112988]),\n",
       " 'pLeftSIPS': array([-0.048423,  0.059416,  0.112988]),\n",
       " 'pRightASI': array([ 0.059184, -0.142599,  0.112988]),\n",
       " 'pLeftASI': array([0.059184, 0.142599, 0.112988]),\n",
       " 'pRightCSI': array([ 0.004068, -0.118832,  0.178602]),\n",
       " 'pLeftCSI': array([0.004068, 0.118832, 0.178602]),\n",
       " 'pRightIschialTub': array([-0.05236 , -0.059416, -0.066795]),\n",
       " 'pLeftIschialTub': array([-0.05236 ,  0.059416, -0.066795]),\n",
       " 'pSacrum': array([-0.073357,  0.      ,  0.014566]),\n",
       " 'pCentralButtock': array([-0.05236 ,  0.      , -0.066795]),\n",
       " 'pThoracolumbarFascia': array([-0.071299,  0.      ,  0.142599])}"
      ]
     },
     "execution_count": 4,
     "metadata": {},
     "output_type": "execute_result"
    }
   ],
   "source": [
    "mvnx_file.segments['Pelvis']"
   ]
  },
  {
   "cell_type": "markdown",
   "id": "6181d211",
   "metadata": {},
   "source": [
    "#### c. check all available dataset for each frame type"
   ]
  },
  {
   "cell_type": "code",
   "execution_count": 5,
   "id": "cc690481",
   "metadata": {},
   "outputs": [
    {
     "name": "stdout",
     "output_type": "stream",
     "text": [
      "{   'identity': ['orientation', 'position'],\n",
      "    'normal': [   'orientation',\n",
      "                  'position',\n",
      "                  'velocity',\n",
      "                  'acceleration',\n",
      "                  'angularVelocity',\n",
      "                  'angularAcceleration',\n",
      "                  'globalPosition',\n",
      "                  'footContacts',\n",
      "                  'sensorFreeAcceleration',\n",
      "                  'sensorMagneticField',\n",
      "                  'sensorOrientation',\n",
      "                  'jointAngle',\n",
      "                  'jointAngleXZY',\n",
      "                  'jointAngleErgo',\n",
      "                  'jointAngleErgoXZY',\n",
      "                  'centerOfMass'],\n",
      "    'tpose': ['orientation', 'position'],\n",
      "    'tpose-isb': ['orientation', 'position']}\n"
     ]
    }
   ],
   "source": [
    "pp.pprint(mvnx_file.dataset_per_frame_type)"
   ]
  },
  {
   "cell_type": "markdown",
   "id": "5613c980",
   "metadata": {},
   "source": [
    "#### d. check the lookup list for dataset name during recording, defined by combination of \n",
    "* object type (e.g., segment, sensor) and\n",
    "* variable (e.g., position, orientation)"
   ]
  },
  {
   "cell_type": "code",
   "execution_count": 6,
   "id": "3ea146a7",
   "metadata": {},
   "outputs": [
    {
     "data": {
      "text/plain": [
       "{'segment_orientation': 'orientation',\n",
       " 'segment_position': 'position',\n",
       " 'segment_velocity': 'velocity',\n",
       " 'segment_acceleration': 'acceleration',\n",
       " 'segment_angular_velocity': 'angularVelocity',\n",
       " 'segment_angular_acceleration': 'angularAcceleration',\n",
       " 'gnss': 'globalPosition',\n",
       " 'foot_contact': 'footContacts',\n",
       " 'sensor_acceleration': 'sensorFreeAcceleration',\n",
       " 'sensor_magnetic_field': 'sensorMagneticField',\n",
       " 'sensor_orientation': 'sensorOrientation',\n",
       " 'joint_angle': 'jointAngle',\n",
       " 'joint_angle_xzy': 'jointAngleXZY',\n",
       " 'ergo_joint_angle': 'jointAngleErgo',\n",
       " 'ergo_joint_angle_xzy': 'jointAngleErgoXZY',\n",
       " 'segment': 'centerOfMass'}"
      ]
     },
     "execution_count": 6,
     "metadata": {},
     "output_type": "execute_result"
    }
   ],
   "source": [
    "mvnx_file.recording_dataset_lookup"
   ]
  },
  {
   "cell_type": "markdown",
   "id": "01cf8408",
   "metadata": {},
   "source": [
    "#### e. check one dataset for recording"
   ]
  },
  {
   "cell_type": "code",
   "execution_count": 7,
   "id": "d1162f7a",
   "metadata": {
    "scrolled": false
   },
   "outputs": [
    {
     "data": {
      "text/plain": [
       "{'column_group': array(['Pelvis', 'Pelvis', 'Pelvis', 'L5', 'L5', 'L5', 'L3', 'L3', 'L3',\n",
       "        'T12', 'T12', 'T12', 'T8', 'T8', 'T8', 'Neck', 'Neck', 'Neck',\n",
       "        'Head', 'Head', 'Head', 'RightShoulder', 'RightShoulder',\n",
       "        'RightShoulder', 'RightUpperArm', 'RightUpperArm', 'RightUpperArm',\n",
       "        'RightForeArm', 'RightForeArm', 'RightForeArm', 'RightHand',\n",
       "        'RightHand', 'RightHand', 'LeftShoulder', 'LeftShoulder',\n",
       "        'LeftShoulder', 'LeftUpperArm', 'LeftUpperArm', 'LeftUpperArm',\n",
       "        'LeftForeArm', 'LeftForeArm', 'LeftForeArm', 'LeftHand',\n",
       "        'LeftHand', 'LeftHand', 'RightUpperLeg', 'RightUpperLeg',\n",
       "        'RightUpperLeg', 'RightLowerLeg', 'RightLowerLeg', 'RightLowerLeg',\n",
       "        'RightFoot', 'RightFoot', 'RightFoot', 'RightToe', 'RightToe',\n",
       "        'RightToe', 'LeftUpperLeg', 'LeftUpperLeg', 'LeftUpperLeg',\n",
       "        'LeftLowerLeg', 'LeftLowerLeg', 'LeftLowerLeg', 'LeftFoot',\n",
       "        'LeftFoot', 'LeftFoot', 'LeftToe', 'LeftToe', 'LeftToe', 'Generic',\n",
       "        'Generic', 'Generic', 'Generic_', 'Generic_', 'Generic_',\n",
       "        'Generic__', 'Generic__', 'Generic__', 'Generic___', 'Generic___',\n",
       "        'Generic___', 'COM', 'COM', 'COM'], dtype='<U13'),\n",
       " 'group_axis': array(['x', 'y', 'z', 'x', 'y', 'z', 'x', 'y', 'z', 'x', 'y', 'z', 'x',\n",
       "        'y', 'z', 'x', 'y', 'z', 'x', 'y', 'z', 'x', 'y', 'z', 'x', 'y',\n",
       "        'z', 'x', 'y', 'z', 'x', 'y', 'z', 'x', 'y', 'z', 'x', 'y', 'z',\n",
       "        'x', 'y', 'z', 'x', 'y', 'z', 'x', 'y', 'z', 'x', 'y', 'z', 'x',\n",
       "        'y', 'z', 'x', 'y', 'z', 'x', 'y', 'z', 'x', 'y', 'z', 'x', 'y',\n",
       "        'z', 'x', 'y', 'z', 'x', 'y', 'z', 'x', 'y', 'z', 'x', 'y', 'z',\n",
       "        'x', 'y', 'z', 'x', 'y', 'z'], dtype='<U1'),\n",
       " 'data': array([[ 0.      ,  0.      ,  0.      , ...,  0.394105, -1.12826 ,\n",
       "          3.10197 ],\n",
       "        [ 0.      ,  0.      ,  0.      , ..., -0.309762, -2.589112,\n",
       "          3.617756],\n",
       "        [ 0.      ,  0.      ,  0.      , ...,  0.676912,  0.204828,\n",
       "          2.670854],\n",
       "        ...,\n",
       "        [ 0.      ,  0.      ,  0.      , ..., -2.130134, -6.641244,\n",
       "          0.47285 ],\n",
       "        [ 0.      ,  0.      ,  0.      , ..., -2.398207, -6.213743,\n",
       "          0.088969],\n",
       "        [ 0.      ,  0.      ,  0.      , ..., -0.07088 , -5.488912,\n",
       "         -0.794284]])}"
      ]
     },
     "execution_count": 7,
     "metadata": {},
     "output_type": "execute_result"
    }
   ],
   "source": [
    "mvnx_file.all_frame_dataset['normal']['acceleration']"
   ]
  },
  {
   "cell_type": "markdown",
   "id": "8dc9b2e0",
   "metadata": {},
   "source": [
    "#### f. retrieve required data\n",
    "\n",
    "Below is to be implemented in another script later\n",
    "\n",
    "For example, when retrieving frame 2400 ~ 2410 (inclusive) for L5 segment's acceleration in x and y axis"
   ]
  },
  {
   "cell_type": "code",
   "execution_count": 8,
   "id": "1de44fb6",
   "metadata": {},
   "outputs": [
    {
     "data": {
      "text/html": [
       "<div>\n",
       "<style scoped>\n",
       "    .dataframe tbody tr th:only-of-type {\n",
       "        vertical-align: middle;\n",
       "    }\n",
       "\n",
       "    .dataframe tbody tr th {\n",
       "        vertical-align: top;\n",
       "    }\n",
       "\n",
       "    .dataframe thead th {\n",
       "        text-align: right;\n",
       "    }\n",
       "</style>\n",
       "<table border=\"1\" class=\"dataframe\">\n",
       "  <thead>\n",
       "    <tr style=\"text-align: right;\">\n",
       "      <th></th>\n",
       "      <th>L5 x</th>\n",
       "      <th>L5 y</th>\n",
       "    </tr>\n",
       "  </thead>\n",
       "  <tbody>\n",
       "    <tr>\n",
       "      <th>2400</th>\n",
       "      <td>-0.747260</td>\n",
       "      <td>-2.809226</td>\n",
       "    </tr>\n",
       "    <tr>\n",
       "      <th>2401</th>\n",
       "      <td>-0.263707</td>\n",
       "      <td>-0.683221</td>\n",
       "    </tr>\n",
       "    <tr>\n",
       "      <th>2402</th>\n",
       "      <td>0.777795</td>\n",
       "      <td>0.186264</td>\n",
       "    </tr>\n",
       "    <tr>\n",
       "      <th>2403</th>\n",
       "      <td>-0.020909</td>\n",
       "      <td>-0.843336</td>\n",
       "    </tr>\n",
       "    <tr>\n",
       "      <th>2404</th>\n",
       "      <td>-2.961620</td>\n",
       "      <td>-1.769441</td>\n",
       "    </tr>\n",
       "    <tr>\n",
       "      <th>2405</th>\n",
       "      <td>-3.179748</td>\n",
       "      <td>-2.991024</td>\n",
       "    </tr>\n",
       "    <tr>\n",
       "      <th>2406</th>\n",
       "      <td>-0.096222</td>\n",
       "      <td>-2.551105</td>\n",
       "    </tr>\n",
       "    <tr>\n",
       "      <th>2407</th>\n",
       "      <td>-0.837313</td>\n",
       "      <td>-3.846776</td>\n",
       "    </tr>\n",
       "    <tr>\n",
       "      <th>2408</th>\n",
       "      <td>0.134322</td>\n",
       "      <td>-2.515697</td>\n",
       "    </tr>\n",
       "    <tr>\n",
       "      <th>2409</th>\n",
       "      <td>8.482962</td>\n",
       "      <td>-4.571010</td>\n",
       "    </tr>\n",
       "    <tr>\n",
       "      <th>2410</th>\n",
       "      <td>15.705746</td>\n",
       "      <td>-9.376306</td>\n",
       "    </tr>\n",
       "  </tbody>\n",
       "</table>\n",
       "</div>"
      ],
      "text/plain": [
       "           L5 x      L5 y\n",
       "2400  -0.747260 -2.809226\n",
       "2401  -0.263707 -0.683221\n",
       "2402   0.777795  0.186264\n",
       "2403  -0.020909 -0.843336\n",
       "2404  -2.961620 -1.769441\n",
       "2405  -3.179748 -2.991024\n",
       "2406  -0.096222 -2.551105\n",
       "2407  -0.837313 -3.846776\n",
       "2408   0.134322 -2.515697\n",
       "2409   8.482962 -4.571010\n",
       "2410  15.705746 -9.376306"
      ]
     },
     "execution_count": 8,
     "metadata": {},
     "output_type": "execute_result"
    }
   ],
   "source": [
    "# define some input to help locate dataset and required rows (time frame) & columns (segment/ sensor, etc. and axis)\n",
    "frame_type = 'normal'\n",
    "object_type = 'segment'\n",
    "variable_name = 'acceleration'\n",
    "required_column_group = ['L5']\n",
    "required_axis = ['x', 'y']\n",
    "start_frame = 2400\n",
    "end_frame = 2410\n",
    "\n",
    "\n",
    "# locate dataset\n",
    "\n",
    "target_dataset_name = mvnx_file.recording_dataset_lookup[object_type + '_' + variable_name]\n",
    "target_dataset = mvnx_file.all_frame_dataset[frame_type][target_dataset_name]\n",
    "\n",
    "\n",
    "# slice the required rows and columns\n",
    "\n",
    "required_rows = [start_frame - mvnx_file.metadata['start_frame_global'], end_frame - start_frame + 1]\n",
    "\n",
    "required_columns = np.where(np.isin(target_dataset['column_group'], required_column_group) & \n",
    "                            np.isin(target_dataset['group_axis'], required_axis))[0]\n",
    "\n",
    "\n",
    "data_retrieved = target_dataset['data'][required_rows[0] : required_rows[1],\n",
    "                                        required_columns]\n",
    "\n",
    "\n",
    "# optional, to format output and display as a dataframe\n",
    "\n",
    "column_names = [grp + ' ' + axis for grp, axis in zip(target_dataset['column_group'][required_columns], target_dataset['group_axis'][required_columns])]\n",
    "\n",
    "df = pd.DataFrame(data_retrieved, columns =  column_names, index = np.arange(start_frame, end_frame+1))\n",
    "df"
   ]
  },
  {
   "cell_type": "markdown",
   "id": "6293a6fd",
   "metadata": {},
   "source": [
    "### step 04 - export parsed mvnx file\n",
    "\n",
    "Currently only support pickle, more file types to follow"
   ]
  },
  {
   "cell_type": "code",
   "execution_count": 9,
   "id": "0fee7de0",
   "metadata": {},
   "outputs": [],
   "source": [
    "mvnx_file.export(r'output/d01_mvnx_parser.pickle')"
   ]
  },
  {
   "cell_type": "markdown",
   "id": "9117239b",
   "metadata": {},
   "source": [
    "## - END -"
   ]
  }
 ],
 "metadata": {
  "kernelspec": {
   "display_name": "Python 3 (ipykernel)",
   "language": "python",
   "name": "python3"
  },
  "language_info": {
   "codemirror_mode": {
    "name": "ipython",
    "version": 3
   },
   "file_extension": ".py",
   "mimetype": "text/x-python",
   "name": "python",
   "nbconvert_exporter": "python",
   "pygments_lexer": "ipython3",
   "version": "3.9.7"
  }
 },
 "nbformat": 4,
 "nbformat_minor": 5
}
